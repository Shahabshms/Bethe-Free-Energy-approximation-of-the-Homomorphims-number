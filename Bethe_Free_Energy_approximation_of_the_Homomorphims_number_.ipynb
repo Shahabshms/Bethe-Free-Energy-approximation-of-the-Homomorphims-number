{
  "nbformat": 4,
  "nbformat_minor": 0,
  "metadata": {
    "colab": {
      "name": "Bethe Free Energy approximation of the Homomorphims number .ipynb",
      "provenance": [],
      "authorship_tag": "ABX9TyOMYP1+NCpofgbDlLE70GzX",
      "include_colab_link": true
    },
    "kernelspec": {
      "name": "python3",
      "display_name": "Python 3"
    }
  },
  "cells": [
    {
      "cell_type": "markdown",
      "metadata": {
        "id": "view-in-github",
        "colab_type": "text"
      },
      "source": [
        "<a href=\"https://colab.research.google.com/github/Shahabshms/Bethe-Free-Energy-approximation-of-the-Homomorphims-number/blob/main/Bethe_Free_Energy_approximation_of_the_Homomorphims_number_.ipynb\" target=\"_parent\"><img src=\"https://colab.research.google.com/assets/colab-badge.svg\" alt=\"Open In Colab\"/></a>"
      ]
    },
    {
      "cell_type": "code",
      "metadata": {
        "id": "rjoyQzP1jnJz"
      },
      "source": [
        "import networkx as nx\n",
        "from networkx.algorithms import bipartite\n",
        "import numpy as np\n",
        "import random\n",
        "from itertools import permutations\n",
        "import numpy.matlib\n",
        "\n",
        "\n",
        "from progressbar import ProgressBar\n",
        "pbar = ProgressBar()\n",
        "import math"
      ],
      "execution_count": 1,
      "outputs": []
    },
    {
      "cell_type": "markdown",
      "metadata": {
        "id": "BeaKQfheyzFi"
      },
      "source": [
        " ## homomorphism"
      ]
    },
    {
      "cell_type": "markdown",
      "metadata": {
        "id": "nz2nz--gqhBU"
      },
      "source": [
        "Given bipartite a graph $G = (A_G,B_G,E_G)$, and a matrix $M \\in \\mathbb{R}^{m\\times m}$,"
      ]
    },
    {
      "cell_type": "markdown",
      "metadata": {
        "id": "yiHSxQopae4n"
      },
      "source": [
        "The actual homomorphism number from vertices of $G$ to matrix $M$ is defined\n",
        "$$\\text{hom}(G,M) = \\sum_{X \\in [m]^{|V_G|}} \\prod_{\\substack{(i,j)\\in E_G\\\\i\\in A_G, j\\in B_G}} M_{x_i,x_j}.$$"
      ]
    },
    {
      "cell_type": "code",
      "metadata": {
        "id": "Sw7WKXd6jQ6I"
      },
      "source": [
        "# Actual value\n",
        "def hom(G,M):  # G : networkx graph object. M : numpy square matrix\n",
        "  v = len(G.nodes())\n",
        "  m = M.shape[0]\n",
        "\n",
        "  hom = 0\n",
        "  for i in range(m**v):\n",
        "    assignments = [-1 for k in range(v)]\n",
        "    for j in range(v):\n",
        "      assignments[j] = i%m\n",
        "      i = i//m\n",
        "    \n",
        "    mul_temp = 1\n",
        "    for e in G.edges():\n",
        "      mul_temp *= M[assignments[e[0]],assignments[e[1]]] \n",
        "\n",
        "    # print(assignments,'   ',mul_temp)\n",
        "    hom += mul_temp\n",
        "\n",
        "  return hom"
      ],
      "execution_count": 2,
      "outputs": []
    },
    {
      "cell_type": "markdown",
      "metadata": {
        "id": "TIH0_IZxJcv_"
      },
      "source": [
        "Bethe Free Energy approximation of $\\text{hom}(G,M)$ is defined:\n",
        "\\begin{align}\n",
        "Z = \\max_{\\tau \\in T}\\Bigg(&- \\sum_{i\\in V} \\sum_{x_i} \\tau_i(x_i) \\log(\\tau_i(x_i)) - \\sum_{C} \\sum_{x_C} \\tau_C(x_C)\\log(\\frac{\\tau_{C}(x_C)}{\\prod_{i\\in C} \\tau_i(x_i)})\\\\\n",
        "& + \\sum_{C} \\sum_{x_C}\\tau_{C}(x_C)\\log(\\psi_C(x_C))+ \\sum_{i\\in V} \\sum_{x_i}\\tau_{i}(x_i)\\log(\\psi_i(x_i))\\Bigg),\n",
        "\\end{align}\n",
        "\n",
        "\n",
        "$$\\text{hom}_{\\text{B}}(G,M) = \\exp(Z).$$"
      ]
    },
    {
      "cell_type": "code",
      "metadata": {
        "id": "-xwV4sDJm5gV"
      },
      "source": [
        "# The Bethe Approximation of the homomorphism number.\n",
        "def homb(G,M): # G is nx graph. M is np square matrix\n",
        "\n",
        "  G = initial_G(G,M)\n",
        "  # Fixed points of loopy belief propagation correspond to\n",
        "  # saddle points of this objective over the local marginal polytope\n",
        "  G = set_believes(G,message_passing(G,10)) \n",
        "\n",
        "  sum_1_H = 0\n",
        "  sum_2_H = 0\n",
        "  sum_3_U = 0\n",
        "  sum_4_U = 0 \n",
        "\n",
        "  for i in G.nodes.values():\n",
        "    for xi in range(len(i.p_func)):\n",
        "      sum_1_H += math.log( i.b[xi] ** i.b[xi] )\n",
        "      sum_4_U += math.log( i.p_func[xi] ** i.b[xi] )\n",
        "\n",
        "  for (i,j) in G.edges.keys():\n",
        "    for xi in range(len(G.nodes[i].p_func)):\n",
        "      for xj in range(len(G.nodes[j].p_func)):\n",
        "\n",
        "        prodd = G.nodes[i].b[xi] * G.nodes[j].b[xj]\n",
        "\n",
        "        sum_2_H += math.log( (G.edges[(i,j)].b[(xi,xj)] / prodd) ** G.edges[(i,j)].b[(xi,xj)])\n",
        "        sum_3_U += math.log( (G.edges[(i,j)].p_func[(xi,xj)]) ** G.edges[(i,j)].b[(xi,xj)])\n",
        "\n",
        "  H = - sum_1_H - sum_2_H # Entropy\n",
        "  U = sum_3_U + sum_4_U # Energy\n",
        "  return  np.exp( H + U )"
      ],
      "execution_count": 3,
      "outputs": []
    },
    {
      "cell_type": "code",
      "metadata": {
        "id": "qqALlAd7nI1-"
      },
      "source": [
        "# The kth order approximation of homomorphism number\n",
        "# Based on Vontoble's Theorem.\n",
        "# def hom_T(G,M,k):"
      ],
      "execution_count": null,
      "outputs": []
    },
    {
      "cell_type": "markdown",
      "metadata": {
        "id": "iIGoURSLzCHL"
      },
      "source": [
        "### Belief Propagation"
      ]
    },
    {
      "cell_type": "code",
      "metadata": {
        "id": "AebRHaTYFT_R"
      },
      "source": [
        "class node:\n",
        "  def __init__(self,index):\n",
        "    self.index = index\n",
        "    self.p_func = None\n",
        "    self.edges = None\n",
        "    self.b = None\n",
        "\n",
        "class edge:\n",
        "  def __init__(self,ends):\n",
        "    self.ends = ends\n",
        "    self.p_func = None\n",
        "    self.b = None\n",
        "\n",
        "class graph:\n",
        "  def __init__(self):\n",
        "    self.nx_object = None\n",
        "    self.nodes = None\n",
        "    self.edges = None\n",
        "\n",
        "def messages(G,coef = 1):\n",
        "  m = {}\n",
        "  for (v1,v2) in G.nx_object.edges:\n",
        "    m[(v1,v2)] = coef * np.ones(len(G.nodes[v1].p_func))\n",
        "    if np.sum(m[(v1,v2)]) != 0:\n",
        "      m[(v1,v2)] = m[(v1,v2)] / np.sum(m[(v1,v2)])\n",
        "\n",
        "    m[(v2,v1)] = coef * np.ones(len(G.nodes[v2].p_func))\n",
        "    if np.sum(m[(v2,v1)]) != 0:\n",
        "      m[(v2,v1)] = m[(v2,v1)] / np.sum(m[(v2,v1)])\n",
        "\n",
        "  return m"
      ],
      "execution_count": 4,
      "outputs": []
    },
    {
      "cell_type": "markdown",
      "metadata": {
        "id": "FD_SiAnHujvh"
      },
      "source": [
        "In this particular task of approximating homomorphism number,\n",
        "$$ \\forall (i,j)\\in E_G, \\psi_{i,j} = M$$\n",
        "and \n",
        "$$ \\forall i\\in V_G, \\phi_i(\\cdot) = 1.$$\n"
      ]
    },
    {
      "cell_type": "code",
      "metadata": {
        "id": "FQFCQOc4rNkp"
      },
      "source": [
        "def initial_G(G,M):  # G is nx object. M is np square matrix\n",
        "\n",
        "  m = M.shape[0]\n",
        "\n",
        "  nodes = {}\n",
        "  edges = {}\n",
        "\n",
        "  for e in G.edges:\n",
        "    an_edge = edge(e)\n",
        "    an_edge.p_func = M\n",
        "    edges[e] = an_edge\n",
        "\n",
        "  for n in G.nodes:\n",
        "    a_node = node(n)\n",
        "    a_node.p_func = np.ones(m)\n",
        "    a_node.edges = G.edges(n)\n",
        "    nodes[n] = a_node\n",
        "\n",
        "  Gr = graph()\n",
        "  Gr.nodes = nodes\n",
        "  Gr.edges = edges\n",
        "  Gr.nx_object = G\n",
        "\n",
        "  return Gr"
      ],
      "execution_count": 5,
      "outputs": []
    },
    {
      "cell_type": "markdown",
      "metadata": {
        "id": "sv6Aze_fjHUn"
      },
      "source": [
        "$$m_{i\\rightarrow j}(x_j) = \\sum_{x_i}\\phi(x_i)\\psi(x_i,x_j)\\prod_{k\\in N(i)\\setminus j} m_{k\\rightarrow i}(x_i) $$\n",
        "\n"
      ]
    },
    {
      "cell_type": "code",
      "metadata": {
        "id": "nDHWeHdbx-MC"
      },
      "source": [
        "def message_passing(G,iters): \n",
        "\n",
        "  edge_arr = list(G.nx_object.edges)\n",
        "  mssgs = messages(G)\n",
        "  for l in range(iters):\n",
        "\n",
        "    temp_mssgs = messages(G,0)\n",
        "\n",
        "    random.shuffle(edge_arr)\n",
        "    for (i,j) in edge_arr:\n",
        "      for xj in range(len(G.nodes[j].p_func)):\n",
        "        eNi = [n for n in G.nx_object.edges(i) if n != (i,j)]\n",
        "        for xi in range(len(G.nodes[i].p_func)):\n",
        "          prodd = 1\n",
        "          for ek in eNi:\n",
        "            prodd *= mssgs[ek[::-1]][xi]\n",
        "          temp_mssgs[(i,j)][xj] += G.nodes[i].p_func[xi] * G.edges[(i,j)].p_func[(xi,xj)] * prodd\n",
        "\n",
        "      \n",
        "      mssgs[(i,j)] = temp_mssgs[(i,j)] / np.sum(temp_mssgs[(i,j)])\n",
        "\n",
        "      for xi in range(len(G.nodes[i].p_func)):\n",
        "        ns_of_j = [n for n in G.nx_object.edges(j) if n != (j,i)]\n",
        "        for xj in range(len(G.nodes[j].p_func)):\n",
        "          prodd = 1\n",
        "          for ek in ns_of_j:\n",
        "            prodd *= mssgs[ek[::-1]][xj]   \n",
        "          temp_mssgs[(j,i)][xi] += G.nodes[j].p_func[xj] * G.edges[(i,j)].p_func[(xi,xj)] * prodd\n",
        "            \n",
        "\n",
        "      mssgs[(j,i)] = temp_mssgs[(j,i)] / np.sum(temp_mssgs[(j,i)])\n",
        "\n",
        "\n",
        "  return mssgs"
      ],
      "execution_count": 6,
      "outputs": []
    },
    {
      "cell_type": "markdown",
      "metadata": {
        "id": "xvuItZ9Yn1TQ"
      },
      "source": [
        "$$b_{i}(x_i) = \\frac{1}{Z}\\phi_i(x_i)\\prod_{k\\in N(i)} m_{k\\rightarrow i} (x_i)$$\n",
        "\n",
        "$$b_{i,j}(x_i,x_j) = \\frac{1}{Z} \\phi_i(x_i)\\phi_j(x_j)\\psi_{i,j}(x_i,x_j)\\left(\\prod_{ k\\in N(i)\\setminus j} m_{k\\rightarrow i}(x_i)\\right)\\left(\\prod_{ k\\in N(j)\\setminus i} m_{k\\rightarrow j}(x_j)\\right)$$"
      ]
    },
    {
      "cell_type": "code",
      "metadata": {
        "id": "af_1OR7HnxVG"
      },
      "source": [
        "def set_believes(G,mssgs):\n",
        "  for i in G.nx_object.nodes:\n",
        "    b = np.zeros(len(G.nodes[i].p_func))\n",
        "    for xi in range(len(G.nodes[i].p_func)):\n",
        "      prodd = 1\n",
        "      eNi = G.nx_object.edges(i)\n",
        "      for ek in eNi:\n",
        "        prodd *= mssgs[ek[::-1]][xi]\n",
        "      b[xi] = G.nodes[i].p_func[xi]*prodd\n",
        "\n",
        "    G.nodes[i].b = b / np.sum(b)\n",
        "\n",
        "  for (i,j) in G.nx_object.edges:\n",
        "    b = np.ones([len(G.nodes[i].p_func),len(G.nodes[j].p_func)])\n",
        "\n",
        "    eNi = [e for e in G.nx_object.edges(i) if e[1]!=j]\n",
        "    eNj = [e for e in G.nx_object.edges(j) if e[1]!=i]\n",
        "\n",
        "    for xi in range(len(G.nodes[i].p_func)):\n",
        "      for xj in range(len(G.nodes[j].p_func)):\n",
        "\n",
        "        prodd = 1\n",
        "        for ek in eNi:\n",
        "          prodd *= mssgs[ek[::-1]][xi]\n",
        "        for ek in eNj:\n",
        "          prodd *= mssgs[ek[::-1]][xj]\n",
        "\n",
        "        b[xi,xj] *= G.nodes[i].p_func[xi] * G.nodes[j].p_func[xj] * G.edges[(i,j)].p_func[xi,xj] * prodd\n",
        "\n",
        "    G.edges[(i,j)].b = b / np.sum(b)\n",
        "\n",
        "  return G"
      ],
      "execution_count": 7,
      "outputs": []
    },
    {
      "cell_type": "code",
      "metadata": {
        "colab": {
          "base_uri": "https://localhost:8080/",
          "height": 387
        },
        "id": "hIIFhMAcw693",
        "outputId": "038f256f-7f13-4da1-feb2-e600e1eb2334"
      },
      "source": [
        "a = np.random.randint(2,6) # Nodes in part A_G\n",
        "b = np.random.randint(2,6) # Nodes in part B_G\n",
        "m = np.random.randint(2,6) # Dimension of M\n",
        "\n",
        "# Generating a random bipartive graph with a + b nodes.\n",
        "G = bipartite.random_graph(a,b,np.random.rand())\n",
        "\n",
        "# Generating a Random matrix of size m\n",
        "M =  np.random.randint(0,3,[m,m]) * np.random.rand(m,m)\n",
        "print(M)\n",
        "pos = nx.bipartite_layout(G,set(list(range(a))))\n",
        "nx.draw(G,pos)\n",
        "\n",
        "print(hom(G,M))\n",
        "print(homb(G,M))"
      ],
      "execution_count": 15,
      "outputs": [
        {
          "output_type": "stream",
          "text": [
            "[[0.66392375 0.        ]\n",
            " [1.76282034 1.52487741]]\n",
            "3889.7646979620713\n",
            "3889.320293265927\n"
          ],
          "name": "stdout"
        },
        {
          "output_type": "display_data",
          "data": {
            "image/png": "[encoded data removed]",
            "text/plain": [
              "<Figure size 432x288 with 1 Axes>"
            ]
          },
          "metadata": {
            "tags": []
          }
        }
      ]
    }
  ]
}